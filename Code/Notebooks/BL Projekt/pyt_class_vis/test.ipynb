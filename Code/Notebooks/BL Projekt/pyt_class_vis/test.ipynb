{
 "cells": [
  {
   "cell_type": "code",
   "execution_count": 24,
   "metadata": {
    "collapsed": true
   },
   "outputs": [],
   "source": [
    "import matplotlib as mpl\n",
    "import matplotlib.pyplot as plt\n",
    "import numpy as np\n",
    "from torch.utils.data import DataLoader\n",
    "import torch\n",
    "import torch.nn as nn\n",
    "\n",
    "\n",
    "import load_data\n"
   ]
  },
  {
   "cell_type": "code",
   "execution_count": 25,
   "outputs": [],
   "source": [
    "class NeuralNetwork(nn.Module):\n",
    "    \"\"\"\n",
    "    Neurale Network Klasse entsprechend Pytorch. Erbt von nn.module\n",
    "    \"\"\"\n",
    "\n",
    "    def __init__(self):\n",
    "        \"\"\"\n",
    "        Init methode für die klasse. Hier werden verschiedene Layer für das Netzwerk gebaut\n",
    "        \"\"\"\n",
    "        super(NeuralNetwork, self).__init__()\n",
    "        self.layers = nn.Sequential(\n",
    "            nn.Flatten(),\n",
    "            nn.Linear(1000 * 1000 * 3, 100, bias=True),\n",
    "            nn.ReLU(),\n",
    "            nn.Linear(100, 10, bias=True),\n",
    "            nn.ReLU(),\n",
    "            nn.Linear(10, 4, bias=True)\n",
    "        )\n",
    "        self.conv = nn.Sequential(  # Das müsste in etwa unsere idee mit dem 5 kernel abbilden?\n",
    "            nn.Conv2d(in_channels=3, out_channels=10, kernel_size=5),\n",
    "            nn.ReLU(),\n",
    "            nn.MaxPool2d(kernel_size=5),\n",
    "            nn.Flatten()\n",
    "        )\n",
    "        self.conv2 = nn.Sequential(\n",
    "            nn.Linear(396010, 100, bias=True),\n",
    "            nn.ReLU(),\n",
    "            nn.Linear(100, 100, bias=True),\n",
    "            nn.ReLU(),\n",
    "            nn.Linear(100, 100, bias=True),\n",
    "            nn.ReLU(),\n",
    "            nn.Linear(100, 100, bias=True),\n",
    "            nn.ReLU(),\n",
    "            nn.Linear(100, 100, bias=True),\n",
    "            nn.ReLU(),\n",
    "            nn.Linear(100, 10, bias=True),\n",
    "            nn.ReLU(),\n",
    "            nn.Linear(10, 4, bias=True)\n",
    "        )\n",
    "\n",
    "    def forward(self, x):\n",
    "        \"\"\"\n",
    "        Forward methode entsprechend pytorch. Hier entsteht das eigentliche Model\n",
    "        :param x:\n",
    "        :return:\n",
    "        \"\"\"\n",
    "        # logits = self.layers(x)\n",
    "        x = self.conv(x)\n",
    "        # print(x)\n",
    "        logits = self.conv2(x)\n",
    "        return logits"
   ],
   "metadata": {
    "collapsed": false,
    "pycharm": {
     "name": "#%%\n"
    }
   }
  },
  {
   "cell_type": "code",
   "execution_count": 26,
   "outputs": [],
   "source": [
    "path = r\"C:\\Users\\Emily\\Documents\\Bachelor_Artefakte\\modelle\\model.pth\""
   ],
   "metadata": {
    "collapsed": false,
    "pycharm": {
     "name": "#%%\n"
    }
   }
  },
  {
   "cell_type": "code",
   "execution_count": 27,
   "outputs": [],
   "source": [
    "image_idx = 0\n",
    "img_size = 1000\n",
    "def load(path):\n",
    "    model = NeuralNetwork()\n",
    "    model.load_state_dict(torch.load(path, map_location=torch.device('cpu')))\n",
    "    model.eval()\n",
    "    return model\n",
    "def buildLoaders(annotations_file=r\"C:\\Users\\Emily\\Documents\\Bachelor_Artefakte\\image_data.csv\",\n",
    "                 img_dir=r\"C:\\Users\\Emily\\Documents\\Bachelor_Drohnen_Bilder\\PNG\", size=img_size, color=\"rgb\", ):\n",
    "    training_data = load_data.CustomImageDataset(annotations_file=annotations_file, img_dir=img_dir, size=size, color=color)\n",
    "    loader = DataLoader(training_data, batch_size=1, shuffle=True)\n",
    "    return loader"
   ],
   "metadata": {
    "collapsed": false,
    "pycharm": {
     "name": "#%%\n"
    }
   }
  },
  {
   "cell_type": "code",
   "execution_count": 28,
   "outputs": [],
   "source": [
    "model = load(path)\n",
    "loader = buildLoaders()"
   ],
   "metadata": {
    "collapsed": false,
    "pycharm": {
     "name": "#%%\n"
    }
   }
  },
  {
   "cell_type": "code",
   "execution_count": 17,
   "outputs": [],
   "source": [
    "val = next(iter(loader))"
   ],
   "metadata": {
    "collapsed": false,
    "pycharm": {
     "name": "#%%\n"
    }
   }
  },
  {
   "cell_type": "code",
   "execution_count": 29,
   "outputs": [],
   "source": [
    "with torch.no_grad():\n",
    "    res = model(val[0])"
   ],
   "metadata": {
    "collapsed": false,
    "pycharm": {
     "name": "#%%\n"
    }
   }
  },
  {
   "cell_type": "code",
   "execution_count": 33,
   "outputs": [
    {
     "data": {
      "text/plain": "2"
     },
     "execution_count": 33,
     "metadata": {},
     "output_type": "execute_result"
    }
   ],
   "source": [
    "prediction = np.argmax(res)\n",
    "prediction.item()"
   ],
   "metadata": {
    "collapsed": false,
    "pycharm": {
     "name": "#%%\n"
    }
   }
  },
  {
   "cell_type": "code",
   "execution_count": 35,
   "outputs": [
    {
     "data": {
      "text/plain": "2"
     },
     "execution_count": 35,
     "metadata": {},
     "output_type": "execute_result"
    }
   ],
   "source": [
    "val[1][0].item()"
   ],
   "metadata": {
    "collapsed": false,
    "pycharm": {
     "name": "#%%\n"
    }
   }
  },
  {
   "cell_type": "code",
   "execution_count": null,
   "outputs": [],
   "source": [],
   "metadata": {
    "collapsed": false,
    "pycharm": {
     "name": "#%%\n"
    }
   }
  }
 ],
 "metadata": {
  "kernelspec": {
   "display_name": "Python 3",
   "language": "python",
   "name": "python3"
  },
  "language_info": {
   "codemirror_mode": {
    "name": "ipython",
    "version": 2
   },
   "file_extension": ".py",
   "mimetype": "text/x-python",
   "name": "python",
   "nbconvert_exporter": "python",
   "pygments_lexer": "ipython2",
   "version": "2.7.6"
  }
 },
 "nbformat": 4,
 "nbformat_minor": 0
}