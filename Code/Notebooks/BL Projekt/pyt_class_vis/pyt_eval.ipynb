{
 "cells": [
  {
   "cell_type": "code",
   "execution_count": 12,
   "metadata": {
    "collapsed": true
   },
   "outputs": [],
   "source": [
    "import sklearn\n",
    "from sklearn.metrics import confusion_matrix\n",
    "import torch\n",
    "import torch.nn as nn\n",
    "import load_data\n",
    "import numpy as np\n",
    "from tqdm import tqdm\n",
    "from torch.utils.data import DataLoader"
   ]
  },
  {
   "cell_type": "code",
   "execution_count": 20,
   "outputs": [],
   "source": [
    "training_data = load_data.CustomImageDataset(annotations_file=r\"C:\\Users\\Emily\\Documents\\Bachelor_Artefakte\\image_data.csv\",\n",
    "                                   img_dir=r\"C:\\Users\\Emily\\Documents\\Bachelor_Drohnen_Bilder\\PNG\", size=1000,\n",
    "                                   color=\"rgb\")\n",
    "dl = DataLoader(training_data, batch_size=1, shuffle=True)"
   ],
   "metadata": {
    "collapsed": false,
    "pycharm": {
     "name": "#%%\n"
    }
   }
  },
  {
   "cell_type": "code",
   "execution_count": 14,
   "outputs": [
    {
     "data": {
      "text/plain": "NeuralNetwork(\n  (layers): Sequential(\n    (0): Flatten(start_dim=1, end_dim=-1)\n    (1): Linear(in_features=3000000, out_features=100, bias=True)\n    (2): ReLU()\n    (3): Linear(in_features=100, out_features=10, bias=True)\n    (4): ReLU()\n    (5): Linear(in_features=10, out_features=4, bias=True)\n  )\n  (conv): Sequential(\n    (0): Conv2d(3, 10, kernel_size=(5, 5), stride=(1, 1))\n    (1): ReLU()\n    (2): MaxPool2d(kernel_size=5, stride=5, padding=0, dilation=1, ceil_mode=False)\n    (3): Flatten(start_dim=1, end_dim=-1)\n  )\n  (conv2): Sequential(\n    (0): Linear(in_features=396010, out_features=100, bias=True)\n    (1): ReLU()\n    (2): Linear(in_features=100, out_features=100, bias=True)\n    (3): ReLU()\n    (4): Linear(in_features=100, out_features=100, bias=True)\n    (5): ReLU()\n    (6): Linear(in_features=100, out_features=100, bias=True)\n    (7): ReLU()\n    (8): Linear(in_features=100, out_features=100, bias=True)\n    (9): ReLU()\n    (10): Linear(in_features=100, out_features=10, bias=True)\n    (11): ReLU()\n    (12): Linear(in_features=10, out_features=4, bias=True)\n  )\n)"
     },
     "execution_count": 14,
     "metadata": {},
     "output_type": "execute_result"
    }
   ],
   "source": [
    "class NeuralNetwork(nn.Module):\n",
    "    \"\"\"\n",
    "    Neurale Network Klasse entsprechend Pytorch. Erbt von nn.module\n",
    "    \"\"\"\n",
    "\n",
    "    def __init__(self):\n",
    "        \"\"\"\n",
    "        Init methode für die klasse. Hier werden verschiedene Layer für das Netzwerk gebaut\n",
    "        \"\"\"\n",
    "        super(NeuralNetwork, self).__init__()\n",
    "        self.layers = nn.Sequential(\n",
    "            nn.Flatten(),\n",
    "            nn.Linear(1000 * 1000 * 3, 100, bias=True),\n",
    "            nn.ReLU(),\n",
    "            nn.Linear(100, 10, bias=True),\n",
    "            nn.ReLU(),\n",
    "            nn.Linear(10, 4, bias=True)\n",
    "        )\n",
    "        self.conv = nn.Sequential(  # Das müsste in etwa unsere idee mit dem 5 kernel abbilden?\n",
    "            nn.Conv2d(in_channels=3, out_channels=10, kernel_size=5),\n",
    "            nn.ReLU(),\n",
    "            nn.MaxPool2d(kernel_size=5),\n",
    "            nn.Flatten()\n",
    "        )\n",
    "        self.conv2 = nn.Sequential(\n",
    "            nn.Linear(396010, 100, bias=True),\n",
    "            nn.ReLU(),\n",
    "            nn.Linear(100, 100, bias=True),\n",
    "            nn.ReLU(),\n",
    "            nn.Linear(100, 100, bias=True),\n",
    "            nn.ReLU(),\n",
    "            nn.Linear(100, 100, bias=True),\n",
    "            nn.ReLU(),\n",
    "            nn.Linear(100, 100, bias=True),\n",
    "            nn.ReLU(),\n",
    "            nn.Linear(100, 10, bias=True),\n",
    "            nn.ReLU(),\n",
    "            nn.Linear(10, 4, bias=True)\n",
    "        )\n",
    "\n",
    "    def forward(self, x):\n",
    "        \"\"\"\n",
    "        Forward methode entsprechend pytorch. Hier entsteht das eigentliche Model\n",
    "        :param x:\n",
    "        :return:\n",
    "        \"\"\"\n",
    "        # logits = self.layers(x)\n",
    "        x = self.conv(x)\n",
    "        # print(x)\n",
    "        logits = self.conv2(x)\n",
    "        return logits\n",
    "\n",
    "\n",
    "model = NeuralNetwork()\n",
    "model.load_state_dict(\n",
    "    torch.load(r\"C:\\Users\\Emily\\Documents\\Bachelor_Artefakte\\modelle\\model.pth\", map_location=torch.device('cpu')))\n",
    "model.eval()"
   ],
   "metadata": {
    "collapsed": false,
    "pycharm": {
     "name": "#%%\n"
    }
   }
  },
  {
   "cell_type": "code",
   "execution_count": 15,
   "outputs": [],
   "source": [
    "def predict(model, image):\n",
    "    with torch.no_grad():\n",
    "        res = model(image)\n",
    "    prediction = np.argmax(res)\n",
    "    prediction = prediction.item()\n",
    "    return prediction"
   ],
   "metadata": {
    "collapsed": false,
    "pycharm": {
     "name": "#%%\n"
    }
   }
  },
  {
   "cell_type": "code",
   "execution_count": 21,
   "outputs": [
    {
     "name": "stderr",
     "output_type": "stream",
     "text": [
      "100%|██████████| 448/448 [08:02<00:00,  1.08s/it]\n"
     ]
    }
   ],
   "source": [
    "y_preds = []\n",
    "y_true = []\n",
    "l = len(dl)\n",
    "for idx, (img, label) in enumerate(tqdm(dl)):\n",
    "    #print(f\"Iteration: {idx} von: {l}\")\n",
    "    y_preds.append(predict(model, img))\n",
    "    y_true.append(label[0].item())"
   ],
   "metadata": {
    "collapsed": false,
    "pycharm": {
     "name": "#%%\n"
    }
   }
  },
  {
   "cell_type": "code",
   "execution_count": 29,
   "outputs": [],
   "source": [
    "matrix = confusion_matrix(y_true, y_preds)"
   ],
   "metadata": {
    "collapsed": false,
    "pycharm": {
     "name": "#%%\n"
    }
   }
  },
  {
   "cell_type": "code",
   "execution_count": 31,
   "outputs": [
    {
     "data": {
      "text/plain": "array([[ 98,   0,   0],\n       [  1,  45,  35],\n       [  3,  13, 253]], dtype=int64)"
     },
     "execution_count": 31,
     "metadata": {},
     "output_type": "execute_result"
    }
   ],
   "source": [
    "matrix"
   ],
   "metadata": {
    "collapsed": false,
    "pycharm": {
     "name": "#%%\n"
    }
   }
  },
  {
   "cell_type": "code",
   "execution_count": null,
   "outputs": [],
   "source": [],
   "metadata": {
    "collapsed": false,
    "pycharm": {
     "name": "#%%\n"
    }
   }
  }
 ],
 "metadata": {
  "kernelspec": {
   "display_name": "Python 3",
   "language": "python",
   "name": "python3"
  },
  "language_info": {
   "codemirror_mode": {
    "name": "ipython",
    "version": 2
   },
   "file_extension": ".py",
   "mimetype": "text/x-python",
   "name": "python",
   "nbconvert_exporter": "python",
   "pygments_lexer": "ipython2",
   "version": "2.7.6"
  }
 },
 "nbformat": 4,
 "nbformat_minor": 0
}