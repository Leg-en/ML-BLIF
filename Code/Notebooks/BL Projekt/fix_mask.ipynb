{
 "cells": [
  {
   "cell_type": "code",
   "execution_count": 1,
   "metadata": {
    "collapsed": true
   },
   "outputs": [],
   "source": [
    "import numba\n",
    "import cv2\n",
    "import os\n",
    "import numpy as np\n",
    "import multiprocessing as mp"
   ]
  },
  {
   "cell_type": "code",
   "execution_count": 8,
   "outputs": [],
   "source": [
    "colors = np.array([[255,0,0],[0,255,0],[0,0,255]])\n",
    "path = r\"C:\\Users\\Emily\\Documents\\Bachelor_Drohnen_Bilder\\splitted\\valid\\mask\"\n",
    "t_path = r\"C:\\Users\\Emily\\Documents\\Bachelor_Drohnen_Bilder\\splitted\\valid\\mask\"\n",
    "dir = os.listdir(path)"
   ],
   "metadata": {
    "collapsed": false,
    "pycharm": {
     "name": "#%%\n"
    }
   }
  },
  {
   "cell_type": "code",
   "execution_count": 9,
   "outputs": [],
   "source": [
    "@numba.jit(nopython=True, nogil=True, parallel=True)\n",
    "def correct(img:np.ndarray):\n",
    "    for idx,val in enumerate(img):\n",
    "        for idx_,val_ in enumerate(img[idx]):\n",
    "            if np.array_equal(val_, colors[0]):\n",
    "                continue\n",
    "            elif np.array_equal(val_, colors[1]):\n",
    "                continue\n",
    "            elif np.array_equal(val_, colors[2]):\n",
    "                continue\n",
    "            else:\n",
    "                img[idx,idx_] = [0,0,0]\n",
    "    return img\n"
   ],
   "metadata": {
    "collapsed": false,
    "pycharm": {
     "name": "#%%\n"
    }
   }
  },
  {
   "cell_type": "code",
   "execution_count": 10,
   "outputs": [
    {
     "name": "stderr",
     "output_type": "stream",
     "text": [
      "C:\\Users\\Emily\\Documents\\GitHub\\ML-BLIF\\venv\\lib\\site-packages\\numba\\core\\typed_passes.py:331: NumbaPerformanceWarning: \u001B[1m\n",
      "The keyword argument 'parallel=True' was specified but no transformation for parallel execution was possible.\n",
      "\n",
      "To find out why, try turning on parallel diagnostics, see https://numba.pydata.org/numba-doc/latest/user/parallel.html#diagnostics for help.\n",
      "\u001B[1m\n",
      "File \"..\\..\\..\\..\\..\\..\\AppData\\Local\\Temp\\ipykernel_16464\\2201532835.py\", line 1:\u001B[0m\n",
      "\u001B[1m<source missing, REPL/exec in use?>\u001B[0m\n",
      "\u001B[0m\n",
      "  warnings.warn(errors.NumbaPerformanceWarning(msg,\n"
     ]
    }
   ],
   "source": [
    "for i in dir:\n",
    "        img = cv2.imread(os.path.join(path,i))\n",
    "        cv2.imwrite(os.path.join(t_path,i),correct(img))"
   ],
   "metadata": {
    "collapsed": false,
    "pycharm": {
     "name": "#%%\n"
    }
   }
  },
  {
   "cell_type": "code",
   "execution_count": null,
   "outputs": [],
   "source": [],
   "metadata": {
    "collapsed": false,
    "pycharm": {
     "name": "#%%\n"
    }
   }
  }
 ],
 "metadata": {
  "kernelspec": {
   "display_name": "Python 3",
   "language": "python",
   "name": "python3"
  },
  "language_info": {
   "codemirror_mode": {
    "name": "ipython",
    "version": 2
   },
   "file_extension": ".py",
   "mimetype": "text/x-python",
   "name": "python",
   "nbconvert_exporter": "python",
   "pygments_lexer": "ipython2",
   "version": "2.7.6"
  }
 },
 "nbformat": 4,
 "nbformat_minor": 0
}