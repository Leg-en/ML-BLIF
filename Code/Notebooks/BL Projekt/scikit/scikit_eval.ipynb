{
 "cells": [
  {
   "cell_type": "code",
   "execution_count": 1,
   "metadata": {
    "collapsed": true,
    "pycharm": {
     "name": "#%%\n"
    }
   },
   "outputs": [],
   "source": [
    "import csv\n",
    "import os\n",
    "import matplotlib.pyplot as plt\n",
    "import cv2\n",
    "import numpy as np\n",
    "import pandas\n",
    "from joblib import dump\n",
    "# from numba import jit\n",
    "from joblib import dump, load\n",
    "from sklearn.neural_network import MLPClassifier"
   ]
  },
  {
   "cell_type": "code",
   "execution_count": 2,
   "outputs": [],
   "source": [
    "def buildKernels(ksize):\n",
    "    kernels = []\n",
    "    for i in range(ksize * ksize):\n",
    "        x = np.zeros((ksize, ksize))\n",
    "        x[i % ksize][(ksize - 1) - i % ksize] = 1\n",
    "        kernels.append(x)\n",
    "    return kernels\n",
    "\n",
    "\n",
    "# @jit(parallel=True)\n",
    "def buildIMGS(kernels, img):\n",
    "    images = []\n",
    "    for kernel in kernels:\n",
    "        cv_filter = cv2.filter2D(img, -1, kernel)\n",
    "        images.append(cv_filter)\n",
    "    return np.array(images)\n",
    "\n",
    "def preprocess(Image: str, csv, ksize) -> None:\n",
    "    print(\"Processing Started\")\n",
    "    frame = pandas.read_csv(csv)\n",
    "    kernels = buildKernels(ksize)\n",
    "    for index, row in frame.iterrows():\n",
    "        path = os.path.join(Image, row[\"filename\"])\n",
    "        img = cv2.imread(path)\n",
    "\n",
    "        # img = cv2.resize(img, (int(img.shape[1]*img_scale), int(img.shape[0]*img_scale)))\n",
    "\n",
    "        imgs = buildIMGS(kernels, img)\n",
    "        xmin, xmax, ymin, ymax = row[\"xmin\"], row[\"xmax\"], row[\"ymin\"], row[\"ymax\"]\n",
    "\n",
    "        # xmin = xmin*img_scale\n",
    "        # xmin = xmax*img_scale\n",
    "        # xmax = int((xmax-xmin)*img_scale + xmin)\n",
    "        # ymax = int((ymax-ymin)*img_scale + ymin)\n",
    "\n",
    "        img_ = imgs[:, ymin:ymax, xmin:xmax, :]\n",
    "        img_ = img_.reshape(img_.shape[0] * img_.shape[1] * img_.shape[2], 3)\n",
    "        print(\"preprocessed: \", row[\"filename\"])\n",
    "        yield [img_, row[\"class\"]]"
   ],
   "metadata": {
    "collapsed": false,
    "pycharm": {
     "name": "#%%\n"
    }
   }
  },
  {
   "cell_type": "code",
   "execution_count": 3,
   "outputs": [],
   "source": [
    "Image = r\"C:\\Users\\Emily\\Documents\\Bachelor_Drohnen_Bilder\\PNG\"\n",
    "csv_ = r\"C:\\Users\\Emily\\Documents\\Bachelor_Artefakte\\image_data.csv\"\n",
    "ksize = 5"
   ],
   "metadata": {
    "collapsed": false,
    "pycharm": {
     "name": "#%%\n"
    }
   }
  },
  {
   "cell_type": "code",
   "execution_count": 20,
   "outputs": [
    {
     "name": "stderr",
     "output_type": "stream",
     "text": [
      "c:\\users\\emily\\documents\\notebooks\\lib\\site-packages\\sklearn\\base.py:310: UserWarning: Trying to unpickle estimator LabelBinarizer from version 0.22.2.post1 when using version 0.24.2. This might lead to breaking code or invalid results. Use at your own risk.\n",
      "  warnings.warn(\n",
      "c:\\users\\emily\\documents\\notebooks\\lib\\site-packages\\sklearn\\base.py:310: UserWarning: Trying to unpickle estimator MLPClassifier from version 0.22.2.post1 when using version 0.24.2. This might lead to breaking code or invalid results. Use at your own risk.\n",
      "  warnings.warn(\n"
     ]
    }
   ],
   "source": [
    "#clf = MLPClassifier(solver='adam', alpha=1e-5, hidden_layer_sizes=(5,3), random_state=1)\n",
    "clf = load(r\"C:\\Users\\Emily\\Documents\\Bachelor_Artefakte\\modelle\\filename2.joblib\")"
   ],
   "metadata": {
    "collapsed": false,
    "pycharm": {
     "name": "#%%\n"
    }
   }
  },
  {
   "cell_type": "code",
   "execution_count": 10,
   "outputs": [],
   "source": [
    "gen = preprocess(Image, csv_, ksize)"
   ],
   "metadata": {
    "collapsed": false,
    "pycharm": {
     "name": "#%%\n"
    }
   }
  },
  {
   "cell_type": "code",
   "execution_count": 21,
   "outputs": [
    {
     "name": "stdout",
     "output_type": "stream",
     "text": [
      "preprocessed:  DJI_0002.png\n"
     ]
    }
   ],
   "source": [
    "a = next(gen)"
   ],
   "metadata": {
    "collapsed": false,
    "pycharm": {
     "name": "#%%\n"
    }
   }
  },
  {
   "cell_type": "code",
   "execution_count": 22,
   "outputs": [],
   "source": [
    "X = a[0]"
   ],
   "metadata": {
    "collapsed": false,
    "pycharm": {
     "name": "#%%\n"
    }
   }
  },
  {
   "cell_type": "code",
   "execution_count": 23,
   "outputs": [],
   "source": [
    "Y = np.chararray(len(X), itemsize=10, unicode=True)\n",
    "Y[:] = a[1]"
   ],
   "metadata": {
    "collapsed": false,
    "pycharm": {
     "name": "#%%\n"
    }
   }
  },
  {
   "cell_type": "code",
   "execution_count": 24,
   "outputs": [
    {
     "data": {
      "text/plain": "0.0"
     },
     "execution_count": 24,
     "metadata": {},
     "output_type": "execute_result"
    }
   ],
   "source": [
    "clf.score(X,Y)"
   ],
   "metadata": {
    "collapsed": false,
    "pycharm": {
     "name": "#%%\n"
    }
   }
  },
  {
   "cell_type": "code",
   "execution_count": 9,
   "outputs": [],
   "source": [],
   "metadata": {
    "collapsed": false,
    "pycharm": {
     "name": "#%%\n"
    }
   }
  }
 ],
 "metadata": {
  "kernelspec": {
   "display_name": "Python 3",
   "language": "python",
   "name": "python3"
  },
  "language_info": {
   "codemirror_mode": {
    "name": "ipython",
    "version": 2
   },
   "file_extension": ".py",
   "mimetype": "text/x-python",
   "name": "python",
   "nbconvert_exporter": "python",
   "pygments_lexer": "ipython2",
   "version": "2.7.6"
  }
 },
 "nbformat": 4,
 "nbformat_minor": 0
}