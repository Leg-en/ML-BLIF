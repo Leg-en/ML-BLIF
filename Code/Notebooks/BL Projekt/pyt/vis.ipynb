{
 "cells": [
  {
   "cell_type": "code",
   "execution_count": 1,
   "metadata": {
    "collapsed": true
   },
   "outputs": [],
   "source": [
    "import torch\n",
    "import torch.nn as nn"
   ]
  },
  {
   "cell_type": "code",
   "execution_count": 2,
   "outputs": [],
   "source": [
    "class NeuralNetwork(nn.Module):\n",
    "    \"\"\"\n",
    "    Neurale Network Klasse entsprechend Pytorch. Erbt von nn.module\n",
    "    \"\"\"\n",
    "    def __init__(self):\n",
    "        \"\"\"\n",
    "        Init methode für die klasse. Hier werden verschiedene Layer für das Netzwerk gebaut\n",
    "        \"\"\"\n",
    "        super(NeuralNetwork, self).__init__()\n",
    "        self.layers = nn.Sequential(\n",
    "            nn.Flatten(),\n",
    "            nn.Linear(1000 * 1000 * 3, 100, bias=True),\n",
    "            nn.ReLU(),\n",
    "            nn.Linear(100, 10, bias=True),\n",
    "            nn.ReLU(),\n",
    "            nn.Linear(10, 4, bias=True)\n",
    "        )\n",
    "        self.conv = nn.Sequential(  # Das müsste in etwa unsere idee mit dem 5 kernel abbilden?\n",
    "            nn.Conv2d(in_channels=3, out_channels=10, kernel_size=5),\n",
    "            nn.ReLU(),\n",
    "            nn.MaxPool2d(kernel_size=5),\n",
    "            nn.Flatten()\n",
    "        )\n",
    "        self.conv2 = nn.Sequential(\n",
    "            nn.Linear(396010, 100, bias=True),\n",
    "            nn.ReLU(),\n",
    "            nn.Linear(100, 100, bias=True),\n",
    "            nn.ReLU(),\n",
    "            nn.Linear(100, 100, bias=True),\n",
    "            nn.ReLU(),\n",
    "            nn.Linear(100, 100, bias=True),\n",
    "            nn.ReLU(),\n",
    "            nn.Linear(100, 100, bias=True),\n",
    "            nn.ReLU(),\n",
    "            nn.Linear(100, 10, bias=True),\n",
    "            nn.ReLU(),\n",
    "            nn.Linear(10, 4, bias=True)\n",
    "        )\n",
    "\n",
    "    def forward(self, x):\n",
    "        \"\"\"\n",
    "        Forward methode entsprechend pytorch. Hier entsteht das eigentliche Model\n",
    "        :param x:\n",
    "        :return:\n",
    "        \"\"\"\n",
    "        # logits = self.layers(x)\n",
    "        x = self.conv(x)\n",
    "        # print(x)\n",
    "        logits = self.conv2(x)\n",
    "        return logits"
   ],
   "metadata": {
    "collapsed": false,
    "pycharm": {
     "name": "#%%\n"
    }
   }
  },
  {
   "cell_type": "code",
   "execution_count": 4,
   "outputs": [
    {
     "data": {
      "text/plain": "NeuralNetwork(\n  (layers): Sequential(\n    (0): Flatten(start_dim=1, end_dim=-1)\n    (1): Linear(in_features=3000000, out_features=100, bias=True)\n    (2): ReLU()\n    (3): Linear(in_features=100, out_features=10, bias=True)\n    (4): ReLU()\n    (5): Linear(in_features=10, out_features=4, bias=True)\n  )\n  (conv): Sequential(\n    (0): Conv2d(3, 10, kernel_size=(5, 5), stride=(1, 1))\n    (1): ReLU()\n    (2): MaxPool2d(kernel_size=5, stride=5, padding=0, dilation=1, ceil_mode=False)\n    (3): Flatten(start_dim=1, end_dim=-1)\n  )\n  (conv2): Sequential(\n    (0): Linear(in_features=396010, out_features=100, bias=True)\n    (1): ReLU()\n    (2): Linear(in_features=100, out_features=100, bias=True)\n    (3): ReLU()\n    (4): Linear(in_features=100, out_features=100, bias=True)\n    (5): ReLU()\n    (6): Linear(in_features=100, out_features=100, bias=True)\n    (7): ReLU()\n    (8): Linear(in_features=100, out_features=100, bias=True)\n    (9): ReLU()\n    (10): Linear(in_features=100, out_features=10, bias=True)\n    (11): ReLU()\n    (12): Linear(in_features=10, out_features=4, bias=True)\n  )\n)"
     },
     "execution_count": 4,
     "metadata": {},
     "output_type": "execute_result"
    }
   ],
   "source": [
    "model = NeuralNetwork()\n",
    "model.load_state_dict(torch.load(r\"C:\\Users\\Emily\\Documents\\Bachelor_Artefakte\\modelle\\model.pth\",map_location=torch.device('cpu')))\n",
    "model.eval()"
   ],
   "metadata": {
    "collapsed": false,
    "pycharm": {
     "name": "#%%\n"
    }
   }
  },
  {
   "cell_type": "code",
   "execution_count": 6,
   "outputs": [
    {
     "data": {
      "text/plain": "Sequential(\n  (0): Flatten(start_dim=1, end_dim=-1)\n  (1): Linear(in_features=3000000, out_features=100, bias=True)\n  (2): ReLU()\n  (3): Linear(in_features=100, out_features=10, bias=True)\n  (4): ReLU()\n  (5): Linear(in_features=10, out_features=4, bias=True)\n)"
     },
     "execution_count": 6,
     "metadata": {},
     "output_type": "execute_result"
    }
   ],
   "source": [
    "model.layers"
   ],
   "metadata": {
    "collapsed": false,
    "pycharm": {
     "name": "#%%\n"
    }
   }
  },
  {
   "cell_type": "code",
   "execution_count": null,
   "outputs": [],
   "source": [],
   "metadata": {
    "collapsed": false,
    "pycharm": {
     "name": "#%%\n"
    }
   }
  }
 ],
 "metadata": {
  "kernelspec": {
   "display_name": "Python 3",
   "language": "python",
   "name": "python3"
  },
  "language_info": {
   "codemirror_mode": {
    "name": "ipython",
    "version": 2
   },
   "file_extension": ".py",
   "mimetype": "text/x-python",
   "name": "python",
   "nbconvert_exporter": "python",
   "pygments_lexer": "ipython2",
   "version": "2.7.6"
  }
 },
 "nbformat": 4,
 "nbformat_minor": 0
}